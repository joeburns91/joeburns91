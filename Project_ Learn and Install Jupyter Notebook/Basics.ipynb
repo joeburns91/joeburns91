{
 "cells": [
  {
   "cell_type": "code",
   "execution_count": 4,
   "metadata": {},
   "outputs": [],
   "source": [
    "##My First Data Science Project"
   ]
  },
  {
   "cell_type": "markdown",
   "metadata": {},
   "source": [
    "In the code cell below, we:\n",
    "\n",
    "Open the AppleStore.csv file using the open() function, and assign the output to a variable named opened_file\n",
    "Import the reader() function from the csv module\n",
    "Read in the opened file using the reader() function, and assign the output to a variable named read_file\n",
    "Transform the read-in file to a list of lists using list() and save it to a variable named apps_data\n",
    "Display the header row and the first three rows of the data set"
   ]
  },
  {
   "cell_type": "code",
   "execution_count": 5,
   "metadata": {},
   "outputs": [
    {
     "name": "stdout",
     "output_type": "stream",
     "text": [
      "[['id', 'track_name', 'size_bytes', 'currency', 'price', 'rating_count_tot', 'rating_count_ver', 'user_rating', 'user_rating_ver', 'ver', 'cont_rating', 'prime_genre', 'sup_devices.num', 'ipadSc_urls.num', 'lang.num', 'vpp_lic'], ['284882215', 'Facebook', '389879808', 'USD', '0.0', '2974676', '212', '3.5', '3.5', '95.0', '4+', 'Social Networking', '37', '1', '29', '1'], ['389801252', 'Instagram', '113954816', 'USD', '0.0', '2161558', '1289', '4.5', '4.0', '10.23', '12+', 'Photo & Video', '37', '0', '29', '1'], ['529479190', 'Clash of Clans', '116476928', 'USD', '0.0', '2130805', '579', '4.5', '4.5', '9.24.12', '9+', 'Games', '38', '5', '18', '1'], ['420009108', 'Temple Run', '65921024', 'USD', '0.0', '1724546', '3842', '4.5', '4.0', '1.6.2', '9+', 'Games', '40', '5', '1', '1']]\n"
     ]
    }
   ],
   "source": [
    "opened_file = open('AppleStore.csv')\n",
    "from csv import reader\n",
    "read_file = reader(opened_file)\n",
    "apps_data = list(read_file)\n",
    "print(apps_data[:5])"
   ]
  },
  {
   "cell_type": "markdown",
   "metadata": {},
   "source": [
    "The data set above contains information about more than 7000 Apple iOS mobile apps. The data was collected from the iTunes Search API by data engineer Ramanathan Perumal. Documentation for the data set can be found at this page, where you'll also be able to download the data set.\n",
    "\n",
    "This is a table explaining what each column in the data set describes:\n",
    "\n",
    "| Column name\t| Description |\n",
    "|---------------| ------------|\n",
    "| \"id\"\t| App ID |\n",
    "| \"track_name\"\t| App Name |\n",
    "| \"size_bytes\"\t| Size (in Bytes) |\n",
    "| \"currency\"\t| Currency Type |\n",
    "| \"price\"\t| Price amount |\n",
    "| \"rating_count_tot\" | \tUser Rating counts (for all version) |\n",
    "| \"rating_count_ver\" |\tUser Rating counts (for current version) |\n",
    "| \"user_rating\" |\tAverage User Rating value (for all version) |\n",
    "| \"user_rating_ver\"\t| Average User Rating value (for current version) |\n",
    "| \"ver\"\t| Latest version code |\n",
    "|  \"cont_rating\"\t| Content Rating |\n",
    "|  \"prime_genre\"\t| Primary Genre |\n",
    "|  \"sup_devices.num\"\t| Number of supporting devices |\n",
    "|  \"ipadSc_urls.num\"\t| Number of screenshots showed for display |\n",
    "|  \"lang.num\" |\tNumber of supported languages |\n",
    "|  \"vpp_lic\"\t| Vpp Device Based Licensing Enabled |"
   ]
  },
  {
   "cell_type": "code",
   "execution_count": null,
   "metadata": {},
   "outputs": [],
   "source": []
  }
 ],
 "metadata": {
  "kernelspec": {
   "display_name": "Python 3",
   "language": "python",
   "name": "python3"
  },
  "language_info": {
   "codemirror_mode": {
    "name": "ipython",
    "version": 3
   },
   "file_extension": ".py",
   "mimetype": "text/x-python",
   "name": "python",
   "nbconvert_exporter": "python",
   "pygments_lexer": "ipython3",
   "version": "3.8.2"
  }
 },
 "nbformat": 4,
 "nbformat_minor": 2
}
