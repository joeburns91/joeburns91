{
 "cells": [
  {
   "cell_type": "markdown",
   "id": "ec8e0ae3",
   "metadata": {},
   "source": [
    "## Data Analysis of Hacker News Posts"
   ]
  },
  {
   "cell_type": "markdown",
   "id": "dbd3e102",
   "metadata": {},
   "source": [
    "Hacker news is akin to the \"Reddit of Tech and Startup circles\". This project aims to analyze the dataset of posts on Hacker News, and determine at what type of post, and at time (EST) is best to get community engagement."
   ]
  },
  {
   "cell_type": "code",
   "execution_count": 5,
   "id": "8ce72a26",
   "metadata": {},
   "outputs": [
    {
     "name": "stdout",
     "output_type": "stream",
     "text": [
      "['id', 'title', 'url', 'num_points', 'num_comments', 'author', 'created_at']\n",
      "\n",
      "\n",
      "\n",
      "[['12579008', 'You have two days to comment if you want stem cells to be classified as your own', 'http://www.regulations.gov/document?D=FDA-2015-D-3719-0018', '1', '0', 'altstar', '9/26/2016 3:26'], ['12579005', 'SQLAR  the SQLite Archiver', 'https://www.sqlite.org/sqlar/doc/trunk/README.md', '1', '0', 'blacksqr', '9/26/2016 3:24'], ['12578997', 'What if we just printed a flatscreen television on the side of our boxes?', 'https://medium.com/vanmoof/our-secrets-out-f21c1f03fdc8#.ietxmez43', '1', '0', 'pavel_lishin', '9/26/2016 3:19'], ['12578989', 'algorithmic music', 'http://cacm.acm.org/magazines/2011/7/109891-algorithmic-composition/fulltext', '1', '0', 'poindontcare', '9/26/2016 3:16']]\n"
     ]
    }
   ],
   "source": [
    "# Importing the data from .csv file, and separating it into a list and a header.\n",
    "from csv import reader\n",
    "opened_file = open('/Users/burnsjse/PythonDirectory/Datasets/hacker_news.csv', encoding='utf8')\n",
    "read_file = reader(opened_file)\n",
    "hn = list(read_file)\n",
    "hn_header = hn[0]\n",
    "hn = hn[1:]\n",
    "print(hn_header)\n",
    "print('\\n\\n')\n",
    "print(hn[:4])"
   ]
  },
  {
   "cell_type": "code",
   "execution_count": 12,
   "id": "7914e7f6",
   "metadata": {},
   "outputs": [
    {
     "name": "stdout",
     "output_type": "stream",
     "text": [
      "length of ask posts: 9139\n",
      "length of show posts: 10158\n",
      "length of other posts: 273822\n"
     ]
    }
   ],
   "source": [
    "# Here we are separating the ask, show, and other posts into separate lists.\n",
    "ask_posts = []\n",
    "show_posts = []\n",
    "other_posts = []\n",
    "\n",
    "for row in hn:\n",
    "    title = row[1].lower()\n",
    "    #print(title)\n",
    "    if title.startswith(\"ask hn\"):\n",
    "        ask_posts.append(row)\n",
    "    elif title.startswith(\"show hn\"):\n",
    "        show_posts.append(row)\n",
    "    else:\n",
    "        other_posts.append(row)\n",
    "\n",
    "print('length of ask posts: ' + str(len(ask_posts)))\n",
    "print('length of show posts: ' + str(len(show_posts)))\n",
    "print('length of other posts: ' + str(len(other_posts)))"
   ]
  },
  {
   "cell_type": "code",
   "execution_count": 19,
   "id": "01ce4401",
   "metadata": {},
   "outputs": [
    {
     "name": "stdout",
     "output_type": "stream",
     "text": [
      "Average ask comments: 10.4\n",
      "Average show comments: 4.9\n"
     ]
    }
   ],
   "source": [
    "# Checking total coments for each post type to measure engagement\n",
    "total_ask_comments = 0\n",
    "for row in ask_posts:\n",
    "    comments = int(row[4])\n",
    "    total_ask_comments += comments\n",
    "avg_ask_comments = total_ask_comments / len(ask_posts)\n",
    "print('Average ask comments: ' + str(round(avg_ask_comments,1)))\n",
    "\n",
    "total_show_comments = 0\n",
    "for row in show_posts:\n",
    "    comments = int(row[4])\n",
    "    total_show_comments += comments\n",
    "avg_show_comments = total_show_comments / len(show_posts)\n",
    "print('Average show comments: ' + str(round(avg_show_comments,1)))"
   ]
  },
  {
   "cell_type": "markdown",
   "id": "e03c983e",
   "metadata": {},
   "source": [
    "Here we can see that ask posts generate more comments than show posts"
   ]
  },
  {
   "cell_type": "code",
   "execution_count": 51,
   "id": "a145b34c",
   "metadata": {},
   "outputs": [
    {
     "name": "stdout",
     "output_type": "stream",
     "text": [
      "{'02': 269, '01': 282, '22': 383, '21': 518, '19': 552, '17': 587, '15': 646, '14': 513, '13': 444, '11': 312, '10': 282, '09': 222, '07': 226, '03': 271, '23': 343, '20': 510, '16': 579, '08': 257, '00': 301, '18': 614, '12': 342, '04': 243, '06': 234, '05': 209}\n",
      "\n",
      "\n",
      "\n",
      "{'02': 2996, '01': 2089, '22': 3372, '21': 4500, '19': 3954, '17': 5547, '15': 18525, '14': 4972, '13': 7245, '11': 2797, '10': 3013, '09': 1477, '07': 1585, '03': 2154, '23': 2297, '20': 4462, '16': 4466, '08': 2362, '00': 2277, '18': 4877, '12': 4234, '04': 2360, '06': 1587, '05': 1838}\n"
     ]
    }
   ],
   "source": [
    "# Creating dictionaries showing the number of posts and the total number of comments on these posts for certain hours.\n",
    "\n",
    "import datetime as dt\n",
    "result_list = []\n",
    "for row in ask_posts:\n",
    "    created_at = row[6]\n",
    "    comments = row[4]\n",
    "    sublist = [created_at, comments]\n",
    "    result_list.append(sublist)    \n",
    "#print(result_list[:5])\n",
    "counts_by_hour = {}\n",
    "comments_by_hour = {}\n",
    "for row in result_list:\n",
    "    when = row[0]\n",
    "    comments = int(row[1])\n",
    "    hour_dt = dt.datetime.strptime(when, \"%m/%d/%Y %H:%M\")\n",
    "    hour_str = hour_dt.strftime(\"%H\")\n",
    "    if hour_str in counts_by_hour:\n",
    "        counts_by_hour[hour_str] += 1\n",
    "    else:\n",
    "        counts_by_hour[hour_str] = 1\n",
    "        \n",
    "    if hour_str in comments_by_hour:\n",
    "        comments_by_hour[hour_str] += comments\n",
    "    else:\n",
    "        comments_by_hour[hour_str] = comments\n",
    "\n",
    "print(counts_by_hour)\n",
    "print('\\n\\n')\n",
    "print(comments_by_hour)"
   ]
  },
  {
   "cell_type": "code",
   "execution_count": 68,
   "id": "17c98ab8",
   "metadata": {},
   "outputs": [
    {
     "name": "stdout",
     "output_type": "stream",
     "text": [
      "[['02', 11.137546468401487, 1], ['01', 7.407801418439717, 1], ['22', 8.804177545691905, 1], ['21', 8.687258687258687, 1], ['19', 7.163043478260869, 1], ['17', 9.449744463373083, 1], ['15', 28.676470588235293, 1], ['14', 9.692007797270955, 1], ['13', 16.31756756756757, 1], ['11', 8.96474358974359, 1], ['10', 10.684397163120567, 1], ['09', 6.653153153153153, 1], ['07', 7.013274336283186, 1], ['03', 7.948339483394834, 1], ['23', 6.696793002915452, 1], ['20', 8.749019607843136, 1], ['16', 7.713298791018998, 1], ['08', 9.190661478599221, 1], ['00', 7.5647840531561465, 1], ['18', 7.94299674267101, 1], ['12', 12.380116959064328, 1], ['04', 9.7119341563786, 1], ['06', 6.782051282051282, 1], ['05', 8.794258373205741, 1]]\n"
     ]
    }
   ],
   "source": [
    "## Using the dictionary to calculate averages for each hour and storing as a list, so we can sort for order, etc. \n",
    "\n",
    "avg_by_hour = []\n",
    "for hour in counts_by_hour:\n",
    "    avg_by_hour.append([hour, comments_by_hour[hour] / counts_by_hour[hour],1])\n",
    "print(avg_by_hour)"
   ]
  },
  {
   "cell_type": "code",
   "execution_count": 76,
   "id": "c0b92215",
   "metadata": {},
   "outputs": [
    {
     "name": "stdout",
     "output_type": "stream",
     "text": [
      "Top 5 hours for Ask Posts Comments:\n",
      "15:01 : 28.68 average comments per post\n",
      "13:01 : 16.32 average comments per post\n",
      "12:01 : 12.38 average comments per post\n",
      "02:01 : 11.14 average comments per post\n"
     ]
    }
   ],
   "source": [
    "# Sorting the list in descending order and generating statements for the top 10 times to post an ask post.\n",
    "swap_avg_by_hour = []\n",
    "for row in avg_by_hour:\n",
    "    swap_avg_by_hour.append([row[1], row[0]])\n",
    "#print(swap_avg_by_hour)\n",
    "sorted_swap = sorted(swap_avg_by_hour, reverse = True)\n",
    "\n",
    "print('Top 5 hours for Ask Posts Comments:')\n",
    "for row in sorted_swap[:4]:\n",
    "    time = dt.datetime.strptime(row[1], \"%H\")\n",
    "    average = row[0]\n",
    "    print('{} : {:.2f} average comments per post'.format(time.strftime(\"%H:%m\"), average))"
   ]
  }
 ],
 "metadata": {
  "kernelspec": {
   "display_name": "Python 3",
   "language": "python",
   "name": "python3"
  },
  "language_info": {
   "codemirror_mode": {
    "name": "ipython",
    "version": 3
   },
   "file_extension": ".py",
   "mimetype": "text/x-python",
   "name": "python",
   "nbconvert_exporter": "python",
   "pygments_lexer": "ipython3",
   "version": "3.8.8"
  }
 },
 "nbformat": 4,
 "nbformat_minor": 5
}
